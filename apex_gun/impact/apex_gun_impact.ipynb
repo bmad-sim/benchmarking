{
 "cells": [
  {
   "cell_type": "markdown",
   "id": "4d5d388f",
   "metadata": {},
   "source": [
    "# APEX gun: Impact-T"
   ]
  },
  {
   "cell_type": "code",
   "execution_count": 1,
   "id": "82347b84",
   "metadata": {},
   "outputs": [
    {
     "name": "stdout",
     "output_type": "stream",
     "text": [
      "Populating the interactive namespace from numpy and matplotlib\n"
     ]
    }
   ],
   "source": [
    "# Useful for debugging\n",
    "%load_ext autoreload\n",
    "%autoreload 2\n",
    "\n",
    "# Nicer plotting\n",
    "%pylab --no-import-all inline\n",
    "%config InlineBackend.figure_format = 'retina'"
   ]
  },
  {
   "cell_type": "code",
   "execution_count": 2,
   "id": "64d7dac8",
   "metadata": {},
   "outputs": [
    {
     "data": {
      "text/plain": [
       "\u001b[0;31mSignature:\u001b[0m\n",
       "\u001b[0mautophase\u001b[0m\u001b[0;34m(\u001b[0m\u001b[0;34m\u001b[0m\n",
       "\u001b[0;34m\u001b[0m    \u001b[0mimpact_object\u001b[0m\u001b[0;34m,\u001b[0m\u001b[0;34m\u001b[0m\n",
       "\u001b[0;34m\u001b[0m    \u001b[0mele_name\u001b[0m\u001b[0;34m=\u001b[0m\u001b[0;32mNone\u001b[0m\u001b[0;34m,\u001b[0m\u001b[0;34m\u001b[0m\n",
       "\u001b[0;34m\u001b[0m    \u001b[0mattribute\u001b[0m\u001b[0;34m=\u001b[0m\u001b[0;34m'theta0_deg'\u001b[0m\u001b[0;34m,\u001b[0m\u001b[0;34m\u001b[0m\n",
       "\u001b[0;34m\u001b[0m    \u001b[0mphase_range\u001b[0m\u001b[0;34m=\u001b[0m\u001b[0;34m(\u001b[0m\u001b[0;34m-\u001b[0m\u001b[0;36m180\u001b[0m\u001b[0;34m,\u001b[0m \u001b[0;36m180\u001b[0m\u001b[0;34m)\u001b[0m\u001b[0;34m,\u001b[0m\u001b[0;34m\u001b[0m\n",
       "\u001b[0;34m\u001b[0m    \u001b[0minitial_particles\u001b[0m\u001b[0;34m=\u001b[0m\u001b[0;32mNone\u001b[0m\u001b[0;34m,\u001b[0m\u001b[0;34m\u001b[0m\n",
       "\u001b[0;34m\u001b[0m    \u001b[0misolate\u001b[0m\u001b[0;34m=\u001b[0m\u001b[0;32mTrue\u001b[0m\u001b[0;34m,\u001b[0m\u001b[0;34m\u001b[0m\n",
       "\u001b[0;34m\u001b[0m    \u001b[0mmetric\u001b[0m\u001b[0;34m=\u001b[0m\u001b[0;34m'mean_energy'\u001b[0m\u001b[0;34m,\u001b[0m\u001b[0;34m\u001b[0m\n",
       "\u001b[0;34m\u001b[0m    \u001b[0mmaximize\u001b[0m\u001b[0;34m=\u001b[0m\u001b[0;32mTrue\u001b[0m\u001b[0;34m,\u001b[0m\u001b[0;34m\u001b[0m\n",
       "\u001b[0;34m\u001b[0m    \u001b[0mdebug\u001b[0m\u001b[0;34m=\u001b[0m\u001b[0;32mFalse\u001b[0m\u001b[0;34m,\u001b[0m\u001b[0;34m\u001b[0m\n",
       "\u001b[0;34m\u001b[0m    \u001b[0malgorithm\u001b[0m\u001b[0;34m=\u001b[0m\u001b[0;34m'brent'\u001b[0m\u001b[0;34m,\u001b[0m\u001b[0;34m\u001b[0m\n",
       "\u001b[0;34m\u001b[0m    \u001b[0ms_stop\u001b[0m\u001b[0;34m=\u001b[0m\u001b[0;32mNone\u001b[0m\u001b[0;34m,\u001b[0m\u001b[0;34m\u001b[0m\n",
       "\u001b[0;34m\u001b[0m    \u001b[0mverbose\u001b[0m\u001b[0;34m=\u001b[0m\u001b[0;32mFalse\u001b[0m\u001b[0;34m,\u001b[0m\u001b[0;34m\u001b[0m\n",
       "\u001b[0;34m\u001b[0m\u001b[0;34m)\u001b[0m\u001b[0;34m\u001b[0m\u001b[0;34m\u001b[0m\u001b[0m\n",
       "\u001b[0;31mDocstring:\u001b[0m Simplified version of autophase_and_scale\n",
       "\u001b[0;31mFile:\u001b[0m      ~/Code/GitHub/lume-impact/impact/autophase.py\n",
       "\u001b[0;31mType:\u001b[0m      function\n"
      ]
     },
     "metadata": {},
     "output_type": "display_data"
    }
   ],
   "source": [
    "from impact import Impact\n",
    "from impact.autophase import autophase\n",
    "?autophase\n",
    "from pmd_beamphysics import single_particle"
   ]
  },
  {
   "cell_type": "code",
   "execution_count": 3,
   "id": "2a2a3ee6",
   "metadata": {},
   "outputs": [],
   "source": [
    "I1 = Impact('ImpactT-1D.in')"
   ]
  },
  {
   "cell_type": "code",
   "execution_count": 4,
   "id": "60763d1d",
   "metadata": {},
   "outputs": [],
   "source": [
    "I2 = Impact('ImpactT-2D.in')"
   ]
  },
  {
   "cell_type": "markdown",
   "id": "9a86200e",
   "metadata": {},
   "source": [
    "# Check autophase"
   ]
  },
  {
   "cell_type": "code",
   "execution_count": 5,
   "id": "8e870b77",
   "metadata": {},
   "outputs": [],
   "source": [
    "P0 = single_particle(pz=1e-9)"
   ]
  },
  {
   "cell_type": "code",
   "execution_count": 6,
   "id": "b1e54087",
   "metadata": {},
   "outputs": [
    {
     "data": {
      "text/plain": [
       "171.45404071736897"
      ]
     },
     "execution_count": 6,
     "metadata": {},
     "output_type": "execute_result"
    }
   ],
   "source": [
    "autophase(I1, 'APEX_gun', initial_particles=P0 )"
   ]
  },
  {
   "cell_type": "code",
   "execution_count": 7,
   "id": "dcf61743",
   "metadata": {},
   "outputs": [
    {
     "data": {
      "text/plain": [
       "171.3833733581337"
      ]
     },
     "execution_count": 7,
     "metadata": {},
     "output_type": "execute_result"
    }
   ],
   "source": [
    "autophase(I2, 'APEX_gun', initial_particles=P0 )"
   ]
  },
  {
   "cell_type": "code",
   "execution_count": 8,
   "id": "53289aec",
   "metadata": {},
   "outputs": [],
   "source": [
    "I1.track1(x0=10e-3)\n",
    "I2.track1(x0=10e-3)"
   ]
  },
  {
   "cell_type": "code",
   "execution_count": 9,
   "id": "774f34ce",
   "metadata": {},
   "outputs": [
    {
     "data": {
      "text/plain": [
       "[<matplotlib.lines.Line2D at 0x158311910>]"
      ]
     },
     "execution_count": 9,
     "metadata": {},
     "output_type": "execute_result"
    },
    {
     "data": {
      "image/png": "[encoded data removed]",
      "text/plain": [
       "<Figure size 432x288 with 1 Axes>"
      ]
     },
     "metadata": {
      "image/png": {
       "height": 248,
       "width": 384
      },
      "needs_background": "light"
     },
     "output_type": "display_data"
    }
   ],
   "source": [
    "plt.plot(I1.stat('mean_z'), I1.stat('mean_x'))\n",
    "plt.plot(I2.stat('mean_z'), I2.stat('mean_x'), marker='.')"
   ]
  }
 ],
 "metadata": {
  "kernelspec": {
   "display_name": "Python 3 (ipykernel)",
   "language": "python",
   "name": "python3"
  },
  "language_info": {
   "codemirror_mode": {
    "name": "ipython",
    "version": 3
   },
   "file_extension": ".py",
   "mimetype": "text/x-python",
   "name": "python",
   "nbconvert_exporter": "python",
   "pygments_lexer": "ipython3",
   "version": "3.9.7"
  }
 },
 "nbformat": 4,
 "nbformat_minor": 5
}
