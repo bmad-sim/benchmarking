{
 "cells": [
  {
   "cell_type": "markdown",
   "id": "f994fb8e",
   "metadata": {
    "tags": []
   },
   "source": [
    "# DC Gun Comparison"
   ]
  },
  {
   "cell_type": "code",
   "execution_count": 1,
   "id": "144e561a",
   "metadata": {},
   "outputs": [
    {
     "name": "stdout",
     "output_type": "stream",
     "text": [
      "%pylab is deprecated, use %matplotlib inline and import the required libraries.\n",
      "Populating the interactive namespace from numpy and matplotlib\n"
     ]
    }
   ],
   "source": [
    "%pylab --no-import-all inline\n",
    "%config InlineBackend.figure_format = 'retina'\n",
    "import os"
   ]
  },
  {
   "cell_type": "code",
   "execution_count": 2,
   "id": "81d67661",
   "metadata": {},
   "outputs": [],
   "source": [
    "from pmd_beamphysics import ParticleGroup, single_particle, particle_paths\n",
    "from pmd_beamphysics.labels import mathlabel\n",
    "from pmd_beamphysics.units import pg_units\n",
    "from pmd_beamphysics.plot import marginal_plot, density_plot\n",
    "\n",
    "from distgen import Generator\n",
    "\n",
    "from pytao import Tao\n",
    "\n",
    "from impact import Impact\n",
    "\n",
    "import h5py"
   ]
  },
  {
   "cell_type": "markdown",
   "id": "dfb1a138",
   "metadata": {
    "tags": []
   },
   "source": [
    "## Parameters"
   ]
  },
  {
   "cell_type": "code",
   "execution_count": 3,
   "id": "c048d55e",
   "metadata": {},
   "outputs": [],
   "source": [
    "GUN_PHASE_DEG = 0"
   ]
  },
  {
   "cell_type": "markdown",
   "id": "c8940b92",
   "metadata": {
    "tags": []
   },
   "source": [
    "## Initial Particle(s)\n",
    "\n",
    "Pick one of these"
   ]
  },
  {
   "cell_type": "code",
   "execution_count": 4,
   "id": "65c0314e",
   "metadata": {},
   "outputs": [],
   "source": [
    "# Single particle\n",
    "P0 = single_particle(x=1000e-6, z=1e-9, pz=1e-9)\n",
    "\n",
    "PFILE = 'initial_particles.h5'"
   ]
  },
  {
   "cell_type": "code",
   "execution_count": 5,
   "id": "46dd6c7a-0386-419b-8eab-ae09c45e4446",
   "metadata": {},
   "outputs": [
    {
     "data": {
      "text/plain": [
       "<ParticleGroup with 1000 particles at 0x7fb045c74130>"
      ]
     },
     "execution_count": 5,
     "metadata": {},
     "output_type": "execute_result"
    }
   ],
   "source": [
    "DISTGEN_IN = \"\"\"\n",
    "n_particle: 1000\n",
    "random_type: hammersley\n",
    "\n",
    "start:\n",
    "  type: cathode\n",
    "  MTE:\n",
    "    units: meV\n",
    "    value: 250\n",
    "    \n",
    "total_charge:\n",
    "  units: pC\n",
    "  value: 50\n",
    "\n",
    "r_dist:\n",
    "  type: radial_uniform\n",
    "  max_r:\n",
    "    units: mm\n",
    "    value: 0.5\n",
    "  \n",
    "t_dist:\n",
    "  type: gaussian\n",
    "  avg_t:\n",
    "    units: ps\n",
    "    value: 0\n",
    "  sigma_t:\n",
    "    units: ps\n",
    "    value: 8.5\n",
    "  n_sigma_cutoff: 3\n",
    "  \n",
    "\"\"\"\n",
    "D = Generator(DISTGEN_IN)\n",
    "D.run()\n",
    "P0 = D.particles\n",
    "P0"
   ]
  },
  {
   "cell_type": "code",
   "execution_count": 6,
   "id": "6f4f6968-3893-4c90-9e96-027bcb802672",
   "metadata": {},
   "outputs": [],
   "source": [
    "P0.write(PFILE)"
   ]
  },
  {
   "cell_type": "code",
   "execution_count": 7,
   "id": "40951dfb-f9ed-4bc7-ad98-e0760de36f40",
   "metadata": {},
   "outputs": [],
   "source": [
    "for i in range(len(P0['status'])):\n",
    "    P0['status'][i] = 1\n",
    "P0.write('live_'+PFILE)"
   ]
  },
  {
   "cell_type": "markdown",
   "id": "e839387f",
   "metadata": {
    "tags": []
   },
   "source": [
    "## Bmad"
   ]
  },
  {
   "cell_type": "markdown",
   "id": "4a2bfdd7-413a-4a1a-bf4b-1fd4ccaa5998",
   "metadata": {},
   "source": [
    "no space charge"
   ]
  },
  {
   "cell_type": "code",
   "execution_count": 8,
   "id": "1142b326",
   "metadata": {},
   "outputs": [],
   "source": [
    "tao = Tao(f'-init bmad/tao.init  -noplot -beam_init_position_file live_{PFILE}')"
   ]
  },
  {
   "cell_type": "code",
   "execution_count": 9,
   "id": "41f8fd5d-e90d-43c9-8f7c-d68da6541890",
   "metadata": {},
   "outputs": [
    {
     "data": {
      "text/plain": [
       "[]"
      ]
     },
     "execution_count": 9,
     "metadata": {},
     "output_type": "execute_result"
    }
   ],
   "source": [
    "# Set the phase\n",
    "tao.cmd(f'set ele GUN phi0 = {GUN_PHASE_DEG}/360')"
   ]
  },
  {
   "cell_type": "code",
   "execution_count": 10,
   "id": "aaaebd5f-607e-4b3a-b080-e9c0d3e62f74",
   "metadata": {},
   "outputs": [
    {
     "name": "stdout",
     "output_type": "stream",
     "text": [
      "CPU times: user 37.5 s, sys: 5.93 ms, total: 37.5 s\n",
      "Wall time: 37.6 s\n"
     ]
    },
    {
     "data": {
      "text/plain": [
       "[]"
      ]
     },
     "execution_count": 10,
     "metadata": {},
     "output_type": "execute_result"
    }
   ],
   "source": [
    "%%time\n",
    "# Toggle beam\n",
    "tao.cmd(f'set beam_init n_particle = {len(P0)}')\n",
    "tao.cmd('set global track_type = beam')\n",
    "tao.cmd('set global track_type = single')"
   ]
  },
  {
   "cell_type": "code",
   "execution_count": 11,
   "id": "133266f2",
   "metadata": {},
   "outputs": [],
   "source": [
    "# Gather particles\n",
    "with h5py.File('beam_dump.h5', 'r') as h5:\n",
    "    ppaths = particle_paths(h5)\n",
    "    Plist = [ParticleGroup(h5[g]) for g in ppaths]\n",
    "    \n",
    "PfB1 = Plist[-1]"
   ]
  },
  {
   "cell_type": "code",
   "execution_count": 12,
   "id": "6974dc48-6242-42ba-a44b-9901c01bcc62",
   "metadata": {},
   "outputs": [
    {
     "data": {
      "text/plain": [
       "19516696.8078242"
      ]
     },
     "execution_count": 12,
     "metadata": {},
     "output_type": "execute_result"
    }
   ],
   "source": [
    "# Get the absolute phase used\n",
    "a = tao.ele_gen_attribs('GUN')\n",
    "field_scale =a['FIELD_AUTOSCALE']\n",
    "field_scale"
   ]
  },
  {
   "cell_type": "code",
   "execution_count": 13,
   "id": "809c5223-8691-4d82-b8c6-808dace73a0e",
   "metadata": {},
   "outputs": [
    {
     "data": {
      "text/plain": [
       "81.39479261206247"
      ]
     },
     "execution_count": 13,
     "metadata": {},
     "output_type": "execute_result"
    }
   ],
   "source": [
    "a = tao.ele_gen_attribs('GUN')\n",
    "PHASE_DEG =(a['PHI0_AUTOSCALE'] + a['PHI0'])*360\n",
    "PHASE_DEG"
   ]
  },
  {
   "cell_type": "markdown",
   "id": "80309c71-a790-4c55-b7c7-7973e040e8eb",
   "metadata": {},
   "source": [
    "space charge"
   ]
  },
  {
   "cell_type": "code",
   "execution_count": 14,
   "id": "eaa90603-5a25-4444-9d0e-455da8185fea",
   "metadata": {},
   "outputs": [
    {
     "data": {
      "text/plain": [
       "[]"
      ]
     },
     "execution_count": 14,
     "metadata": {},
     "output_type": "execute_result"
    }
   ],
   "source": [
    "tao = Tao(f'-init bmad/tao.init  -noplot -beam_init_position_file {PFILE}')\n",
    "tao.cmd(f'set ele GUN phi0 = {GUN_PHASE_DEG}/360')"
   ]
  },
  {
   "cell_type": "code",
   "execution_count": 15,
   "id": "288a1eb0-ff84-417f-b370-a0778c83a879",
   "metadata": {},
   "outputs": [
    {
     "name": "stdout",
     "output_type": "stream",
     "text": [
      "CPU times: user 2min 32s, sys: 13 ms, total: 2min 32s\n",
      "Wall time: 2min 32s\n"
     ]
    },
    {
     "data": {
      "text/plain": [
       "[]"
      ]
     },
     "execution_count": 15,
     "metadata": {},
     "output_type": "execute_result"
    }
   ],
   "source": [
    "%%time\n",
    "# Toggle beam\n",
    "tao.cmd('set bmad_com csr_and_space_charge_on = T')\n",
    "tao.cmd(f'set beam_init n_particle = {len(P0)}')\n",
    "tao.cmd('set global track_type = beam')\n",
    "tao.cmd('set global track_type = single')"
   ]
  },
  {
   "cell_type": "code",
   "execution_count": 16,
   "id": "aabd84d9-7c8e-45b0-a47b-b178e4654160",
   "metadata": {},
   "outputs": [],
   "source": [
    "# Gather particles\n",
    "with h5py.File('beam_dump.h5', 'r') as h5:\n",
    "    ppaths = particle_paths(h5)\n",
    "    Plist2 = [ParticleGroup(h5[g]) for g in ppaths]\n",
    "    \n",
    "PfB2 = Plist2[-1]"
   ]
  },
  {
   "cell_type": "code",
   "execution_count": 17,
   "id": "3ec3f084-d6be-493c-b708-60f8f53680f3",
   "metadata": {},
   "outputs": [
    {
     "data": {
      "text/plain": [
       "[]"
      ]
     },
     "execution_count": 17,
     "metadata": {},
     "output_type": "execute_result"
    }
   ],
   "source": [
    "tao = Tao(f'-init bmad/tao.init  -noplot -beam_init_position_file {PFILE}')\n",
    "tao.cmd(f'set ele GUN phi0 = {GUN_PHASE_DEG}/360')"
   ]
  },
  {
   "cell_type": "code",
   "execution_count": 18,
   "id": "ed7f521f-9b93-4f8e-a266-0afeab187a05",
   "metadata": {},
   "outputs": [
    {
     "name": "stdout",
     "output_type": "stream",
     "text": [
      "CPU times: user 2min 38s, sys: 8.74 ms, total: 2min 38s\n",
      "Wall time: 2min 39s\n"
     ]
    },
    {
     "data": {
      "text/plain": [
       "[]"
      ]
     },
     "execution_count": 18,
     "metadata": {},
     "output_type": "execute_result"
    }
   ],
   "source": [
    "%%time\n",
    "# Toggle beam\n",
    "tao.cmd('set ele GUN space_charge_method = cathode_fft_3d')\n",
    "tao.cmd('set bmad_com csr_and_space_charge_on = T')\n",
    "tao.cmd(f'set beam_init n_particle = {len(P0)}')\n",
    "tao.cmd('set global track_type = beam')\n",
    "tao.cmd('set global track_type = single')"
   ]
  },
  {
   "cell_type": "code",
   "execution_count": 19,
   "id": "322f363a-89c8-4df8-bb13-a453c1d5b446",
   "metadata": {},
   "outputs": [],
   "source": [
    "# Gather particles\n",
    "with h5py.File('beam_dump.h5', 'r') as h5:\n",
    "    ppaths = particle_paths(h5)\n",
    "    Plist3 = [ParticleGroup(h5[g]) for g in ppaths]\n",
    "    \n",
    "PfB3 = Plist3[-1]"
   ]
  },
  {
   "cell_type": "markdown",
   "id": "cdc39a97",
   "metadata": {
    "tags": []
   },
   "source": [
    "## Impact-T"
   ]
  },
  {
   "cell_type": "markdown",
   "id": "1ca6e743-2fc1-45da-8a78-6d1358302d0d",
   "metadata": {},
   "source": [
    "no space charge"
   ]
  },
  {
   "cell_type": "code",
   "execution_count": 24,
   "id": "38a63ade-b2b8-42ae-bc09-09c0c20d4e7a",
   "metadata": {},
   "outputs": [
    {
     "ename": "FileNotFoundError",
     "evalue": "/nfs/user/nw285/bmad_benchmarking_fork/apex_gun/impact/rfdata666 not found.",
     "output_type": "error",
     "traceback": [
      "\u001b[0;31m---------------------------------------------------------------------------\u001b[0m",
      "\u001b[0;31mFileNotFoundError\u001b[0m                         Traceback (most recent call last)",
      "File \u001b[0;32m<timed exec>:1\u001b[0m, in \u001b[0;36m<module>\u001b[0;34m\u001b[0m\n",
      "File \u001b[0;32m/nfs/user/nw285/packages/miniconda3/envs/bmad-benchmarking/lib/python3.9/site-packages/impact/impact.py:95\u001b[0m, in \u001b[0;36mImpact.__init__\u001b[0;34m(self, input_file, initial_particles, group, command, command_mpi, use_mpi, mpi_run, use_tempdir, workdir, verbose)\u001b[0m\n\u001b[1;32m     93\u001b[0m infile \u001b[38;5;241m=\u001b[39m tools\u001b[38;5;241m.\u001b[39mfull_path(input_file)\n\u001b[1;32m     94\u001b[0m \u001b[38;5;28;01massert\u001b[39;00m os\u001b[38;5;241m.\u001b[39mpath\u001b[38;5;241m.\u001b[39mexists(infile), \u001b[38;5;124mf\u001b[39m\u001b[38;5;124m'\u001b[39m\u001b[38;5;124mImpact input file does not exist: \u001b[39m\u001b[38;5;132;01m{\u001b[39;00minfile\u001b[38;5;132;01m}\u001b[39;00m\u001b[38;5;124m'\u001b[39m\n\u001b[0;32m---> 95\u001b[0m \u001b[38;5;28;43mself\u001b[39;49m\u001b[38;5;241;43m.\u001b[39;49m\u001b[43mload_input\u001b[49m\u001b[43m(\u001b[49m\u001b[43minput_file\u001b[49m\u001b[43m)\u001b[49m            \n\u001b[1;32m     96\u001b[0m \u001b[38;5;28mself\u001b[39m\u001b[38;5;241m.\u001b[39mconfigure()\n\u001b[1;32m     98\u001b[0m \u001b[38;5;66;03m# Add groups, if any. \u001b[39;00m\n",
      "File \u001b[0;32m/nfs/user/nw285/packages/miniconda3/envs/bmad-benchmarking/lib/python3.9/site-packages/impact/impact.py:177\u001b[0m, in \u001b[0;36mImpact.load_input\u001b[0;34m(self, input_filePath)\u001b[0m\n\u001b[1;32m    175\u001b[0m f \u001b[38;5;241m=\u001b[39m tools\u001b[38;5;241m.\u001b[39mfull_path(input_filePath)\n\u001b[1;32m    176\u001b[0m \u001b[38;5;28mself\u001b[39m\u001b[38;5;241m.\u001b[39moriginal_path, _ \u001b[38;5;241m=\u001b[39m os\u001b[38;5;241m.\u001b[39mpath\u001b[38;5;241m.\u001b[39msplit(f) \u001b[38;5;66;03m# Get original path\u001b[39;00m\n\u001b[0;32m--> 177\u001b[0m \u001b[38;5;28mself\u001b[39m\u001b[38;5;241m.\u001b[39minput \u001b[38;5;241m=\u001b[39m \u001b[43mparse_impact_input\u001b[49m\u001b[43m(\u001b[49m\u001b[43mf\u001b[49m\u001b[43m,\u001b[49m\u001b[43m \u001b[49m\u001b[43mverbose\u001b[49m\u001b[38;5;241;43m=\u001b[39;49m\u001b[38;5;28;43mself\u001b[39;49m\u001b[38;5;241;43m.\u001b[39;49m\u001b[43mverbose\u001b[49m\u001b[43m)\u001b[49m\n",
      "File \u001b[0;32m/nfs/user/nw285/packages/miniconda3/envs/bmad-benchmarking/lib/python3.9/site-packages/impact/parsers.py:1478\u001b[0m, in \u001b[0;36mparse_impact_input\u001b[0;34m(filePath, verbose)\u001b[0m\n\u001b[1;32m   1475\u001b[0m eles \u001b[38;5;241m=\u001b[39m parse_lattice(latlines)\n\u001b[1;32m   1477\u001b[0m \u001b[38;5;66;03m# Get fieldmaps\u001b[39;00m\n\u001b[0;32m-> 1478\u001b[0m fieldmaps \u001b[38;5;241m=\u001b[39m \u001b[43mload_fieldmaps\u001b[49m\u001b[43m(\u001b[49m\u001b[43meles\u001b[49m\u001b[43m,\u001b[49m\u001b[43m \u001b[49m\u001b[43mpath\u001b[49m\u001b[43m)\u001b[49m\n\u001b[1;32m   1481\u001b[0m \u001b[38;5;66;03m# Ouput dict\u001b[39;00m\n\u001b[1;32m   1482\u001b[0m d \u001b[38;5;241m=\u001b[39m {}\n",
      "File \u001b[0;32m/nfs/user/nw285/packages/miniconda3/envs/bmad-benchmarking/lib/python3.9/site-packages/impact/parsers.py:1309\u001b[0m, in \u001b[0;36mload_fieldmaps\u001b[0;34m(eles, dir)\u001b[0m\n\u001b[1;32m   1307\u001b[0m         file \u001b[38;5;241m=\u001b[39m os\u001b[38;5;241m.\u001b[39mpath\u001b[38;5;241m.\u001b[39mjoin(\u001b[38;5;28mdir\u001b[39m, name)\n\u001b[1;32m   1308\u001b[0m         \u001b[38;5;66;03m# Call the appropriate parser\u001b[39;00m\n\u001b[0;32m-> 1309\u001b[0m         fmapdata[name] \u001b[38;5;241m=\u001b[39m \u001b[43mfieldmap_parsers\u001b[49m\u001b[43m[\u001b[49m\u001b[38;5;28;43mtype\u001b[39;49m\u001b[43m]\u001b[49m\u001b[43m(\u001b[49m\u001b[43mfile\u001b[49m\u001b[43m)\u001b[49m\n\u001b[1;32m   1312\u001b[0m \u001b[38;5;28;01mreturn\u001b[39;00m fmapdata\n",
      "File \u001b[0;32m/nfs/user/nw285/packages/miniconda3/envs/bmad-benchmarking/lib/python3.9/site-packages/impact/fieldmaps.py:51\u001b[0m, in \u001b[0;36mread_fieldmap_rfdata\u001b[0;34m(filePath)\u001b[0m\n\u001b[1;32m     49\u001b[0m d \u001b[38;5;241m=\u001b[39m {}\n\u001b[1;32m     50\u001b[0m d[\u001b[38;5;124m'\u001b[39m\u001b[38;5;124minfo\u001b[39m\u001b[38;5;124m'\u001b[39m] \u001b[38;5;241m=\u001b[39m info\n\u001b[0;32m---> 51\u001b[0m d[\u001b[38;5;124m'\u001b[39m\u001b[38;5;124mdata\u001b[39m\u001b[38;5;124m'\u001b[39m] \u001b[38;5;241m=\u001b[39m \u001b[43mnp\u001b[49m\u001b[38;5;241;43m.\u001b[39;49m\u001b[43mloadtxt\u001b[49m\u001b[43m(\u001b[49m\u001b[43mfilePath\u001b[49m\u001b[43m)\u001b[49m\n\u001b[1;32m     52\u001b[0m \u001b[38;5;28;01mreturn\u001b[39;00m d\n",
      "File \u001b[0;32m/nfs/user/nw285/packages/miniconda3/envs/bmad-benchmarking/lib/python3.9/site-packages/numpy/lib/npyio.py:1308\u001b[0m, in \u001b[0;36mloadtxt\u001b[0;34m(fname, dtype, comments, delimiter, converters, skiprows, usecols, unpack, ndmin, encoding, max_rows, quotechar, like)\u001b[0m\n\u001b[1;32m   1305\u001b[0m \u001b[38;5;28;01mif\u001b[39;00m \u001b[38;5;28misinstance\u001b[39m(delimiter, \u001b[38;5;28mbytes\u001b[39m):\n\u001b[1;32m   1306\u001b[0m     delimiter \u001b[38;5;241m=\u001b[39m delimiter\u001b[38;5;241m.\u001b[39mdecode(\u001b[38;5;124m'\u001b[39m\u001b[38;5;124mlatin1\u001b[39m\u001b[38;5;124m'\u001b[39m)\n\u001b[0;32m-> 1308\u001b[0m arr \u001b[38;5;241m=\u001b[39m \u001b[43m_read\u001b[49m\u001b[43m(\u001b[49m\u001b[43mfname\u001b[49m\u001b[43m,\u001b[49m\u001b[43m \u001b[49m\u001b[43mdtype\u001b[49m\u001b[38;5;241;43m=\u001b[39;49m\u001b[43mdtype\u001b[49m\u001b[43m,\u001b[49m\u001b[43m \u001b[49m\u001b[43mcomment\u001b[49m\u001b[38;5;241;43m=\u001b[39;49m\u001b[43mcomment\u001b[49m\u001b[43m,\u001b[49m\u001b[43m \u001b[49m\u001b[43mdelimiter\u001b[49m\u001b[38;5;241;43m=\u001b[39;49m\u001b[43mdelimiter\u001b[49m\u001b[43m,\u001b[49m\n\u001b[1;32m   1309\u001b[0m \u001b[43m            \u001b[49m\u001b[43mconverters\u001b[49m\u001b[38;5;241;43m=\u001b[39;49m\u001b[43mconverters\u001b[49m\u001b[43m,\u001b[49m\u001b[43m \u001b[49m\u001b[43mskiplines\u001b[49m\u001b[38;5;241;43m=\u001b[39;49m\u001b[43mskiprows\u001b[49m\u001b[43m,\u001b[49m\u001b[43m \u001b[49m\u001b[43musecols\u001b[49m\u001b[38;5;241;43m=\u001b[39;49m\u001b[43musecols\u001b[49m\u001b[43m,\u001b[49m\n\u001b[1;32m   1310\u001b[0m \u001b[43m            \u001b[49m\u001b[43munpack\u001b[49m\u001b[38;5;241;43m=\u001b[39;49m\u001b[43munpack\u001b[49m\u001b[43m,\u001b[49m\u001b[43m \u001b[49m\u001b[43mndmin\u001b[49m\u001b[38;5;241;43m=\u001b[39;49m\u001b[43mndmin\u001b[49m\u001b[43m,\u001b[49m\u001b[43m \u001b[49m\u001b[43mencoding\u001b[49m\u001b[38;5;241;43m=\u001b[39;49m\u001b[43mencoding\u001b[49m\u001b[43m,\u001b[49m\n\u001b[1;32m   1311\u001b[0m \u001b[43m            \u001b[49m\u001b[43mmax_rows\u001b[49m\u001b[38;5;241;43m=\u001b[39;49m\u001b[43mmax_rows\u001b[49m\u001b[43m,\u001b[49m\u001b[43m \u001b[49m\u001b[43mquote\u001b[49m\u001b[38;5;241;43m=\u001b[39;49m\u001b[43mquotechar\u001b[49m\u001b[43m)\u001b[49m\n\u001b[1;32m   1313\u001b[0m \u001b[38;5;28;01mreturn\u001b[39;00m arr\n",
      "File \u001b[0;32m/nfs/user/nw285/packages/miniconda3/envs/bmad-benchmarking/lib/python3.9/site-packages/numpy/lib/npyio.py:955\u001b[0m, in \u001b[0;36m_read\u001b[0;34m(fname, delimiter, comment, quote, imaginary_unit, usecols, skiplines, max_rows, converters, ndmin, unpack, dtype, encoding)\u001b[0m\n\u001b[1;32m    953\u001b[0m     fname \u001b[38;5;241m=\u001b[39m os\u001b[38;5;241m.\u001b[39mfspath(fname)\n\u001b[1;32m    954\u001b[0m \u001b[38;5;28;01mif\u001b[39;00m \u001b[38;5;28misinstance\u001b[39m(fname, \u001b[38;5;28mstr\u001b[39m):\n\u001b[0;32m--> 955\u001b[0m     fh \u001b[38;5;241m=\u001b[39m \u001b[43mnp\u001b[49m\u001b[38;5;241;43m.\u001b[39;49m\u001b[43mlib\u001b[49m\u001b[38;5;241;43m.\u001b[39;49m\u001b[43m_datasource\u001b[49m\u001b[38;5;241;43m.\u001b[39;49m\u001b[43mopen\u001b[49m\u001b[43m(\u001b[49m\u001b[43mfname\u001b[49m\u001b[43m,\u001b[49m\u001b[43m \u001b[49m\u001b[38;5;124;43m'\u001b[39;49m\u001b[38;5;124;43mrt\u001b[39;49m\u001b[38;5;124;43m'\u001b[39;49m\u001b[43m,\u001b[49m\u001b[43m \u001b[49m\u001b[43mencoding\u001b[49m\u001b[38;5;241;43m=\u001b[39;49m\u001b[43mencoding\u001b[49m\u001b[43m)\u001b[49m\n\u001b[1;32m    956\u001b[0m     \u001b[38;5;28;01mif\u001b[39;00m encoding \u001b[38;5;129;01mis\u001b[39;00m \u001b[38;5;28;01mNone\u001b[39;00m:\n\u001b[1;32m    957\u001b[0m         encoding \u001b[38;5;241m=\u001b[39m \u001b[38;5;28mgetattr\u001b[39m(fh, \u001b[38;5;124m'\u001b[39m\u001b[38;5;124mencoding\u001b[39m\u001b[38;5;124m'\u001b[39m, \u001b[38;5;124m'\u001b[39m\u001b[38;5;124mlatin1\u001b[39m\u001b[38;5;124m'\u001b[39m)\n",
      "File \u001b[0;32m/nfs/user/nw285/packages/miniconda3/envs/bmad-benchmarking/lib/python3.9/site-packages/numpy/lib/_datasource.py:193\u001b[0m, in \u001b[0;36mopen\u001b[0;34m(path, mode, destpath, encoding, newline)\u001b[0m\n\u001b[1;32m    156\u001b[0m \u001b[38;5;124;03m\"\"\"\u001b[39;00m\n\u001b[1;32m    157\u001b[0m \u001b[38;5;124;03mOpen `path` with `mode` and return the file object.\u001b[39;00m\n\u001b[1;32m    158\u001b[0m \n\u001b[0;32m   (...)\u001b[0m\n\u001b[1;32m    189\u001b[0m \n\u001b[1;32m    190\u001b[0m \u001b[38;5;124;03m\"\"\"\u001b[39;00m\n\u001b[1;32m    192\u001b[0m ds \u001b[38;5;241m=\u001b[39m DataSource(destpath)\n\u001b[0;32m--> 193\u001b[0m \u001b[38;5;28;01mreturn\u001b[39;00m \u001b[43mds\u001b[49m\u001b[38;5;241;43m.\u001b[39;49m\u001b[43mopen\u001b[49m\u001b[43m(\u001b[49m\u001b[43mpath\u001b[49m\u001b[43m,\u001b[49m\u001b[43m \u001b[49m\u001b[43mmode\u001b[49m\u001b[43m,\u001b[49m\u001b[43m \u001b[49m\u001b[43mencoding\u001b[49m\u001b[38;5;241;43m=\u001b[39;49m\u001b[43mencoding\u001b[49m\u001b[43m,\u001b[49m\u001b[43m \u001b[49m\u001b[43mnewline\u001b[49m\u001b[38;5;241;43m=\u001b[39;49m\u001b[43mnewline\u001b[49m\u001b[43m)\u001b[49m\n",
      "File \u001b[0;32m/nfs/user/nw285/packages/miniconda3/envs/bmad-benchmarking/lib/python3.9/site-packages/numpy/lib/_datasource.py:533\u001b[0m, in \u001b[0;36mDataSource.open\u001b[0;34m(self, path, mode, encoding, newline)\u001b[0m\n\u001b[1;32m    530\u001b[0m     \u001b[38;5;28;01mreturn\u001b[39;00m _file_openers[ext](found, mode\u001b[38;5;241m=\u001b[39mmode,\n\u001b[1;32m    531\u001b[0m                               encoding\u001b[38;5;241m=\u001b[39mencoding, newline\u001b[38;5;241m=\u001b[39mnewline)\n\u001b[1;32m    532\u001b[0m \u001b[38;5;28;01melse\u001b[39;00m:\n\u001b[0;32m--> 533\u001b[0m     \u001b[38;5;28;01mraise\u001b[39;00m \u001b[38;5;167;01mFileNotFoundError\u001b[39;00m(\u001b[38;5;124mf\u001b[39m\u001b[38;5;124m\"\u001b[39m\u001b[38;5;132;01m{\u001b[39;00mpath\u001b[38;5;132;01m}\u001b[39;00m\u001b[38;5;124m not found.\u001b[39m\u001b[38;5;124m\"\u001b[39m)\n",
      "\u001b[0;31mFileNotFoundError\u001b[0m: /nfs/user/nw285/bmad_benchmarking_fork/apex_gun/impact/rfdata666 not found."
     ]
    }
   ],
   "source": [
    "%%time\n",
    "I = Impact('impact/ImpactT-2D.in', initial_particles=P0)\n",
    "\n",
    "I.ele['APEX_gun']['theta0_deg'] = PHASE_DEG + 90\n",
    "I.ele['APEX_gun']['rf_field_scale'] = field_scale\n",
    "I.header['Bcurr'] = 0\n",
    "I.run()\n",
    "PfI1 = I.particles['final_particles']\n",
    "PfI1.drift_to_z(0.5)"
   ]
  },
  {
   "cell_type": "markdown",
   "id": "d59fe211-08d3-4bad-9787-f0243a9a5727",
   "metadata": {},
   "source": [
    "space charge"
   ]
  },
  {
   "cell_type": "code",
   "execution_count": 21,
   "id": "abca07bb-56a9-45f2-a9f2-c45ff2719e78",
   "metadata": {},
   "outputs": [
    {
     "ename": "FileNotFoundError",
     "evalue": "/nfs/user/nw285/bmad_benchmarking_fork/apex_gun/impact/rfdata666 not found.",
     "output_type": "error",
     "traceback": [
      "\u001b[0;31m---------------------------------------------------------------------------\u001b[0m",
      "\u001b[0;31mFileNotFoundError\u001b[0m                         Traceback (most recent call last)",
      "File \u001b[0;32m<timed exec>:1\u001b[0m, in \u001b[0;36m<module>\u001b[0;34m\u001b[0m\n",
      "File \u001b[0;32m/nfs/user/nw285/packages/miniconda3/envs/bmad-benchmarking/lib/python3.9/site-packages/impact/impact.py:95\u001b[0m, in \u001b[0;36mImpact.__init__\u001b[0;34m(self, input_file, initial_particles, group, command, command_mpi, use_mpi, mpi_run, use_tempdir, workdir, verbose)\u001b[0m\n\u001b[1;32m     93\u001b[0m infile \u001b[38;5;241m=\u001b[39m tools\u001b[38;5;241m.\u001b[39mfull_path(input_file)\n\u001b[1;32m     94\u001b[0m \u001b[38;5;28;01massert\u001b[39;00m os\u001b[38;5;241m.\u001b[39mpath\u001b[38;5;241m.\u001b[39mexists(infile), \u001b[38;5;124mf\u001b[39m\u001b[38;5;124m'\u001b[39m\u001b[38;5;124mImpact input file does not exist: \u001b[39m\u001b[38;5;132;01m{\u001b[39;00minfile\u001b[38;5;132;01m}\u001b[39;00m\u001b[38;5;124m'\u001b[39m\n\u001b[0;32m---> 95\u001b[0m \u001b[38;5;28;43mself\u001b[39;49m\u001b[38;5;241;43m.\u001b[39;49m\u001b[43mload_input\u001b[49m\u001b[43m(\u001b[49m\u001b[43minput_file\u001b[49m\u001b[43m)\u001b[49m            \n\u001b[1;32m     96\u001b[0m \u001b[38;5;28mself\u001b[39m\u001b[38;5;241m.\u001b[39mconfigure()\n\u001b[1;32m     98\u001b[0m \u001b[38;5;66;03m# Add groups, if any. \u001b[39;00m\n",
      "File \u001b[0;32m/nfs/user/nw285/packages/miniconda3/envs/bmad-benchmarking/lib/python3.9/site-packages/impact/impact.py:177\u001b[0m, in \u001b[0;36mImpact.load_input\u001b[0;34m(self, input_filePath)\u001b[0m\n\u001b[1;32m    175\u001b[0m f \u001b[38;5;241m=\u001b[39m tools\u001b[38;5;241m.\u001b[39mfull_path(input_filePath)\n\u001b[1;32m    176\u001b[0m \u001b[38;5;28mself\u001b[39m\u001b[38;5;241m.\u001b[39moriginal_path, _ \u001b[38;5;241m=\u001b[39m os\u001b[38;5;241m.\u001b[39mpath\u001b[38;5;241m.\u001b[39msplit(f) \u001b[38;5;66;03m# Get original path\u001b[39;00m\n\u001b[0;32m--> 177\u001b[0m \u001b[38;5;28mself\u001b[39m\u001b[38;5;241m.\u001b[39minput \u001b[38;5;241m=\u001b[39m \u001b[43mparse_impact_input\u001b[49m\u001b[43m(\u001b[49m\u001b[43mf\u001b[49m\u001b[43m,\u001b[49m\u001b[43m \u001b[49m\u001b[43mverbose\u001b[49m\u001b[38;5;241;43m=\u001b[39;49m\u001b[38;5;28;43mself\u001b[39;49m\u001b[38;5;241;43m.\u001b[39;49m\u001b[43mverbose\u001b[49m\u001b[43m)\u001b[49m\n",
      "File \u001b[0;32m/nfs/user/nw285/packages/miniconda3/envs/bmad-benchmarking/lib/python3.9/site-packages/impact/parsers.py:1478\u001b[0m, in \u001b[0;36mparse_impact_input\u001b[0;34m(filePath, verbose)\u001b[0m\n\u001b[1;32m   1475\u001b[0m eles \u001b[38;5;241m=\u001b[39m parse_lattice(latlines)\n\u001b[1;32m   1477\u001b[0m \u001b[38;5;66;03m# Get fieldmaps\u001b[39;00m\n\u001b[0;32m-> 1478\u001b[0m fieldmaps \u001b[38;5;241m=\u001b[39m \u001b[43mload_fieldmaps\u001b[49m\u001b[43m(\u001b[49m\u001b[43meles\u001b[49m\u001b[43m,\u001b[49m\u001b[43m \u001b[49m\u001b[43mpath\u001b[49m\u001b[43m)\u001b[49m\n\u001b[1;32m   1481\u001b[0m \u001b[38;5;66;03m# Ouput dict\u001b[39;00m\n\u001b[1;32m   1482\u001b[0m d \u001b[38;5;241m=\u001b[39m {}\n",
      "File \u001b[0;32m/nfs/user/nw285/packages/miniconda3/envs/bmad-benchmarking/lib/python3.9/site-packages/impact/parsers.py:1309\u001b[0m, in \u001b[0;36mload_fieldmaps\u001b[0;34m(eles, dir)\u001b[0m\n\u001b[1;32m   1307\u001b[0m         file \u001b[38;5;241m=\u001b[39m os\u001b[38;5;241m.\u001b[39mpath\u001b[38;5;241m.\u001b[39mjoin(\u001b[38;5;28mdir\u001b[39m, name)\n\u001b[1;32m   1308\u001b[0m         \u001b[38;5;66;03m# Call the appropriate parser\u001b[39;00m\n\u001b[0;32m-> 1309\u001b[0m         fmapdata[name] \u001b[38;5;241m=\u001b[39m \u001b[43mfieldmap_parsers\u001b[49m\u001b[43m[\u001b[49m\u001b[38;5;28;43mtype\u001b[39;49m\u001b[43m]\u001b[49m\u001b[43m(\u001b[49m\u001b[43mfile\u001b[49m\u001b[43m)\u001b[49m\n\u001b[1;32m   1312\u001b[0m \u001b[38;5;28;01mreturn\u001b[39;00m fmapdata\n",
      "File \u001b[0;32m/nfs/user/nw285/packages/miniconda3/envs/bmad-benchmarking/lib/python3.9/site-packages/impact/fieldmaps.py:51\u001b[0m, in \u001b[0;36mread_fieldmap_rfdata\u001b[0;34m(filePath)\u001b[0m\n\u001b[1;32m     49\u001b[0m d \u001b[38;5;241m=\u001b[39m {}\n\u001b[1;32m     50\u001b[0m d[\u001b[38;5;124m'\u001b[39m\u001b[38;5;124minfo\u001b[39m\u001b[38;5;124m'\u001b[39m] \u001b[38;5;241m=\u001b[39m info\n\u001b[0;32m---> 51\u001b[0m d[\u001b[38;5;124m'\u001b[39m\u001b[38;5;124mdata\u001b[39m\u001b[38;5;124m'\u001b[39m] \u001b[38;5;241m=\u001b[39m \u001b[43mnp\u001b[49m\u001b[38;5;241;43m.\u001b[39;49m\u001b[43mloadtxt\u001b[49m\u001b[43m(\u001b[49m\u001b[43mfilePath\u001b[49m\u001b[43m)\u001b[49m\n\u001b[1;32m     52\u001b[0m \u001b[38;5;28;01mreturn\u001b[39;00m d\n",
      "File \u001b[0;32m/nfs/user/nw285/packages/miniconda3/envs/bmad-benchmarking/lib/python3.9/site-packages/numpy/lib/npyio.py:1308\u001b[0m, in \u001b[0;36mloadtxt\u001b[0;34m(fname, dtype, comments, delimiter, converters, skiprows, usecols, unpack, ndmin, encoding, max_rows, quotechar, like)\u001b[0m\n\u001b[1;32m   1305\u001b[0m \u001b[38;5;28;01mif\u001b[39;00m \u001b[38;5;28misinstance\u001b[39m(delimiter, \u001b[38;5;28mbytes\u001b[39m):\n\u001b[1;32m   1306\u001b[0m     delimiter \u001b[38;5;241m=\u001b[39m delimiter\u001b[38;5;241m.\u001b[39mdecode(\u001b[38;5;124m'\u001b[39m\u001b[38;5;124mlatin1\u001b[39m\u001b[38;5;124m'\u001b[39m)\n\u001b[0;32m-> 1308\u001b[0m arr \u001b[38;5;241m=\u001b[39m \u001b[43m_read\u001b[49m\u001b[43m(\u001b[49m\u001b[43mfname\u001b[49m\u001b[43m,\u001b[49m\u001b[43m \u001b[49m\u001b[43mdtype\u001b[49m\u001b[38;5;241;43m=\u001b[39;49m\u001b[43mdtype\u001b[49m\u001b[43m,\u001b[49m\u001b[43m \u001b[49m\u001b[43mcomment\u001b[49m\u001b[38;5;241;43m=\u001b[39;49m\u001b[43mcomment\u001b[49m\u001b[43m,\u001b[49m\u001b[43m \u001b[49m\u001b[43mdelimiter\u001b[49m\u001b[38;5;241;43m=\u001b[39;49m\u001b[43mdelimiter\u001b[49m\u001b[43m,\u001b[49m\n\u001b[1;32m   1309\u001b[0m \u001b[43m            \u001b[49m\u001b[43mconverters\u001b[49m\u001b[38;5;241;43m=\u001b[39;49m\u001b[43mconverters\u001b[49m\u001b[43m,\u001b[49m\u001b[43m \u001b[49m\u001b[43mskiplines\u001b[49m\u001b[38;5;241;43m=\u001b[39;49m\u001b[43mskiprows\u001b[49m\u001b[43m,\u001b[49m\u001b[43m \u001b[49m\u001b[43musecols\u001b[49m\u001b[38;5;241;43m=\u001b[39;49m\u001b[43musecols\u001b[49m\u001b[43m,\u001b[49m\n\u001b[1;32m   1310\u001b[0m \u001b[43m            \u001b[49m\u001b[43munpack\u001b[49m\u001b[38;5;241;43m=\u001b[39;49m\u001b[43munpack\u001b[49m\u001b[43m,\u001b[49m\u001b[43m \u001b[49m\u001b[43mndmin\u001b[49m\u001b[38;5;241;43m=\u001b[39;49m\u001b[43mndmin\u001b[49m\u001b[43m,\u001b[49m\u001b[43m \u001b[49m\u001b[43mencoding\u001b[49m\u001b[38;5;241;43m=\u001b[39;49m\u001b[43mencoding\u001b[49m\u001b[43m,\u001b[49m\n\u001b[1;32m   1311\u001b[0m \u001b[43m            \u001b[49m\u001b[43mmax_rows\u001b[49m\u001b[38;5;241;43m=\u001b[39;49m\u001b[43mmax_rows\u001b[49m\u001b[43m,\u001b[49m\u001b[43m \u001b[49m\u001b[43mquote\u001b[49m\u001b[38;5;241;43m=\u001b[39;49m\u001b[43mquotechar\u001b[49m\u001b[43m)\u001b[49m\n\u001b[1;32m   1313\u001b[0m \u001b[38;5;28;01mreturn\u001b[39;00m arr\n",
      "File \u001b[0;32m/nfs/user/nw285/packages/miniconda3/envs/bmad-benchmarking/lib/python3.9/site-packages/numpy/lib/npyio.py:955\u001b[0m, in \u001b[0;36m_read\u001b[0;34m(fname, delimiter, comment, quote, imaginary_unit, usecols, skiplines, max_rows, converters, ndmin, unpack, dtype, encoding)\u001b[0m\n\u001b[1;32m    953\u001b[0m     fname \u001b[38;5;241m=\u001b[39m os\u001b[38;5;241m.\u001b[39mfspath(fname)\n\u001b[1;32m    954\u001b[0m \u001b[38;5;28;01mif\u001b[39;00m \u001b[38;5;28misinstance\u001b[39m(fname, \u001b[38;5;28mstr\u001b[39m):\n\u001b[0;32m--> 955\u001b[0m     fh \u001b[38;5;241m=\u001b[39m \u001b[43mnp\u001b[49m\u001b[38;5;241;43m.\u001b[39;49m\u001b[43mlib\u001b[49m\u001b[38;5;241;43m.\u001b[39;49m\u001b[43m_datasource\u001b[49m\u001b[38;5;241;43m.\u001b[39;49m\u001b[43mopen\u001b[49m\u001b[43m(\u001b[49m\u001b[43mfname\u001b[49m\u001b[43m,\u001b[49m\u001b[43m \u001b[49m\u001b[38;5;124;43m'\u001b[39;49m\u001b[38;5;124;43mrt\u001b[39;49m\u001b[38;5;124;43m'\u001b[39;49m\u001b[43m,\u001b[49m\u001b[43m \u001b[49m\u001b[43mencoding\u001b[49m\u001b[38;5;241;43m=\u001b[39;49m\u001b[43mencoding\u001b[49m\u001b[43m)\u001b[49m\n\u001b[1;32m    956\u001b[0m     \u001b[38;5;28;01mif\u001b[39;00m encoding \u001b[38;5;129;01mis\u001b[39;00m \u001b[38;5;28;01mNone\u001b[39;00m:\n\u001b[1;32m    957\u001b[0m         encoding \u001b[38;5;241m=\u001b[39m \u001b[38;5;28mgetattr\u001b[39m(fh, \u001b[38;5;124m'\u001b[39m\u001b[38;5;124mencoding\u001b[39m\u001b[38;5;124m'\u001b[39m, \u001b[38;5;124m'\u001b[39m\u001b[38;5;124mlatin1\u001b[39m\u001b[38;5;124m'\u001b[39m)\n",
      "File \u001b[0;32m/nfs/user/nw285/packages/miniconda3/envs/bmad-benchmarking/lib/python3.9/site-packages/numpy/lib/_datasource.py:193\u001b[0m, in \u001b[0;36mopen\u001b[0;34m(path, mode, destpath, encoding, newline)\u001b[0m\n\u001b[1;32m    156\u001b[0m \u001b[38;5;124;03m\"\"\"\u001b[39;00m\n\u001b[1;32m    157\u001b[0m \u001b[38;5;124;03mOpen `path` with `mode` and return the file object.\u001b[39;00m\n\u001b[1;32m    158\u001b[0m \n\u001b[0;32m   (...)\u001b[0m\n\u001b[1;32m    189\u001b[0m \n\u001b[1;32m    190\u001b[0m \u001b[38;5;124;03m\"\"\"\u001b[39;00m\n\u001b[1;32m    192\u001b[0m ds \u001b[38;5;241m=\u001b[39m DataSource(destpath)\n\u001b[0;32m--> 193\u001b[0m \u001b[38;5;28;01mreturn\u001b[39;00m \u001b[43mds\u001b[49m\u001b[38;5;241;43m.\u001b[39;49m\u001b[43mopen\u001b[49m\u001b[43m(\u001b[49m\u001b[43mpath\u001b[49m\u001b[43m,\u001b[49m\u001b[43m \u001b[49m\u001b[43mmode\u001b[49m\u001b[43m,\u001b[49m\u001b[43m \u001b[49m\u001b[43mencoding\u001b[49m\u001b[38;5;241;43m=\u001b[39;49m\u001b[43mencoding\u001b[49m\u001b[43m,\u001b[49m\u001b[43m \u001b[49m\u001b[43mnewline\u001b[49m\u001b[38;5;241;43m=\u001b[39;49m\u001b[43mnewline\u001b[49m\u001b[43m)\u001b[49m\n",
      "File \u001b[0;32m/nfs/user/nw285/packages/miniconda3/envs/bmad-benchmarking/lib/python3.9/site-packages/numpy/lib/_datasource.py:533\u001b[0m, in \u001b[0;36mDataSource.open\u001b[0;34m(self, path, mode, encoding, newline)\u001b[0m\n\u001b[1;32m    530\u001b[0m     \u001b[38;5;28;01mreturn\u001b[39;00m _file_openers[ext](found, mode\u001b[38;5;241m=\u001b[39mmode,\n\u001b[1;32m    531\u001b[0m                               encoding\u001b[38;5;241m=\u001b[39mencoding, newline\u001b[38;5;241m=\u001b[39mnewline)\n\u001b[1;32m    532\u001b[0m \u001b[38;5;28;01melse\u001b[39;00m:\n\u001b[0;32m--> 533\u001b[0m     \u001b[38;5;28;01mraise\u001b[39;00m \u001b[38;5;167;01mFileNotFoundError\u001b[39;00m(\u001b[38;5;124mf\u001b[39m\u001b[38;5;124m\"\u001b[39m\u001b[38;5;132;01m{\u001b[39;00mpath\u001b[38;5;132;01m}\u001b[39;00m\u001b[38;5;124m not found.\u001b[39m\u001b[38;5;124m\"\u001b[39m)\n",
      "\u001b[0;31mFileNotFoundError\u001b[0m: /nfs/user/nw285/bmad_benchmarking_fork/apex_gun/impact/rfdata666 not found."
     ]
    }
   ],
   "source": [
    "%%time\n",
    "I2 = Impact('impact/ImpactT-2D.in', initial_particles=P0)\n",
    "\n",
    "I2.ele['APEX_gun']['theta0_deg'] = PHASE_DEG + 90\n",
    "I2.ele['APEX_gun']['rf_field_scale'] = field_scale\n",
    "I2.run()\n",
    "PfI2 = I2.particles['final_particles']\n",
    "PfI2.drift_to_z(0.5) # to make the comparisons the same"
   ]
  },
  {
   "cell_type": "markdown",
   "id": "d602c344-2359-44c3-9e07-c21e11de0bac",
   "metadata": {},
   "source": [
    "space charge + image charge"
   ]
  },
  {
   "cell_type": "code",
   "execution_count": 22,
   "id": "26c66afe-0b8a-4cdf-8548-46febaec38b8",
   "metadata": {},
   "outputs": [
    {
     "ename": "FileNotFoundError",
     "evalue": "/nfs/user/nw285/bmad_benchmarking_fork/apex_gun/impact/rfdata666 not found.",
     "output_type": "error",
     "traceback": [
      "\u001b[0;31m---------------------------------------------------------------------------\u001b[0m",
      "\u001b[0;31mFileNotFoundError\u001b[0m                         Traceback (most recent call last)",
      "File \u001b[0;32m<timed exec>:1\u001b[0m, in \u001b[0;36m<module>\u001b[0;34m\u001b[0m\n",
      "File \u001b[0;32m/nfs/user/nw285/packages/miniconda3/envs/bmad-benchmarking/lib/python3.9/site-packages/impact/impact.py:95\u001b[0m, in \u001b[0;36mImpact.__init__\u001b[0;34m(self, input_file, initial_particles, group, command, command_mpi, use_mpi, mpi_run, use_tempdir, workdir, verbose)\u001b[0m\n\u001b[1;32m     93\u001b[0m infile \u001b[38;5;241m=\u001b[39m tools\u001b[38;5;241m.\u001b[39mfull_path(input_file)\n\u001b[1;32m     94\u001b[0m \u001b[38;5;28;01massert\u001b[39;00m os\u001b[38;5;241m.\u001b[39mpath\u001b[38;5;241m.\u001b[39mexists(infile), \u001b[38;5;124mf\u001b[39m\u001b[38;5;124m'\u001b[39m\u001b[38;5;124mImpact input file does not exist: \u001b[39m\u001b[38;5;132;01m{\u001b[39;00minfile\u001b[38;5;132;01m}\u001b[39;00m\u001b[38;5;124m'\u001b[39m\n\u001b[0;32m---> 95\u001b[0m \u001b[38;5;28;43mself\u001b[39;49m\u001b[38;5;241;43m.\u001b[39;49m\u001b[43mload_input\u001b[49m\u001b[43m(\u001b[49m\u001b[43minput_file\u001b[49m\u001b[43m)\u001b[49m            \n\u001b[1;32m     96\u001b[0m \u001b[38;5;28mself\u001b[39m\u001b[38;5;241m.\u001b[39mconfigure()\n\u001b[1;32m     98\u001b[0m \u001b[38;5;66;03m# Add groups, if any. \u001b[39;00m\n",
      "File \u001b[0;32m/nfs/user/nw285/packages/miniconda3/envs/bmad-benchmarking/lib/python3.9/site-packages/impact/impact.py:177\u001b[0m, in \u001b[0;36mImpact.load_input\u001b[0;34m(self, input_filePath)\u001b[0m\n\u001b[1;32m    175\u001b[0m f \u001b[38;5;241m=\u001b[39m tools\u001b[38;5;241m.\u001b[39mfull_path(input_filePath)\n\u001b[1;32m    176\u001b[0m \u001b[38;5;28mself\u001b[39m\u001b[38;5;241m.\u001b[39moriginal_path, _ \u001b[38;5;241m=\u001b[39m os\u001b[38;5;241m.\u001b[39mpath\u001b[38;5;241m.\u001b[39msplit(f) \u001b[38;5;66;03m# Get original path\u001b[39;00m\n\u001b[0;32m--> 177\u001b[0m \u001b[38;5;28mself\u001b[39m\u001b[38;5;241m.\u001b[39minput \u001b[38;5;241m=\u001b[39m \u001b[43mparse_impact_input\u001b[49m\u001b[43m(\u001b[49m\u001b[43mf\u001b[49m\u001b[43m,\u001b[49m\u001b[43m \u001b[49m\u001b[43mverbose\u001b[49m\u001b[38;5;241;43m=\u001b[39;49m\u001b[38;5;28;43mself\u001b[39;49m\u001b[38;5;241;43m.\u001b[39;49m\u001b[43mverbose\u001b[49m\u001b[43m)\u001b[49m\n",
      "File \u001b[0;32m/nfs/user/nw285/packages/miniconda3/envs/bmad-benchmarking/lib/python3.9/site-packages/impact/parsers.py:1478\u001b[0m, in \u001b[0;36mparse_impact_input\u001b[0;34m(filePath, verbose)\u001b[0m\n\u001b[1;32m   1475\u001b[0m eles \u001b[38;5;241m=\u001b[39m parse_lattice(latlines)\n\u001b[1;32m   1477\u001b[0m \u001b[38;5;66;03m# Get fieldmaps\u001b[39;00m\n\u001b[0;32m-> 1478\u001b[0m fieldmaps \u001b[38;5;241m=\u001b[39m \u001b[43mload_fieldmaps\u001b[49m\u001b[43m(\u001b[49m\u001b[43meles\u001b[49m\u001b[43m,\u001b[49m\u001b[43m \u001b[49m\u001b[43mpath\u001b[49m\u001b[43m)\u001b[49m\n\u001b[1;32m   1481\u001b[0m \u001b[38;5;66;03m# Ouput dict\u001b[39;00m\n\u001b[1;32m   1482\u001b[0m d \u001b[38;5;241m=\u001b[39m {}\n",
      "File \u001b[0;32m/nfs/user/nw285/packages/miniconda3/envs/bmad-benchmarking/lib/python3.9/site-packages/impact/parsers.py:1309\u001b[0m, in \u001b[0;36mload_fieldmaps\u001b[0;34m(eles, dir)\u001b[0m\n\u001b[1;32m   1307\u001b[0m         file \u001b[38;5;241m=\u001b[39m os\u001b[38;5;241m.\u001b[39mpath\u001b[38;5;241m.\u001b[39mjoin(\u001b[38;5;28mdir\u001b[39m, name)\n\u001b[1;32m   1308\u001b[0m         \u001b[38;5;66;03m# Call the appropriate parser\u001b[39;00m\n\u001b[0;32m-> 1309\u001b[0m         fmapdata[name] \u001b[38;5;241m=\u001b[39m \u001b[43mfieldmap_parsers\u001b[49m\u001b[43m[\u001b[49m\u001b[38;5;28;43mtype\u001b[39;49m\u001b[43m]\u001b[49m\u001b[43m(\u001b[49m\u001b[43mfile\u001b[49m\u001b[43m)\u001b[49m\n\u001b[1;32m   1312\u001b[0m \u001b[38;5;28;01mreturn\u001b[39;00m fmapdata\n",
      "File \u001b[0;32m/nfs/user/nw285/packages/miniconda3/envs/bmad-benchmarking/lib/python3.9/site-packages/impact/fieldmaps.py:51\u001b[0m, in \u001b[0;36mread_fieldmap_rfdata\u001b[0;34m(filePath)\u001b[0m\n\u001b[1;32m     49\u001b[0m d \u001b[38;5;241m=\u001b[39m {}\n\u001b[1;32m     50\u001b[0m d[\u001b[38;5;124m'\u001b[39m\u001b[38;5;124minfo\u001b[39m\u001b[38;5;124m'\u001b[39m] \u001b[38;5;241m=\u001b[39m info\n\u001b[0;32m---> 51\u001b[0m d[\u001b[38;5;124m'\u001b[39m\u001b[38;5;124mdata\u001b[39m\u001b[38;5;124m'\u001b[39m] \u001b[38;5;241m=\u001b[39m \u001b[43mnp\u001b[49m\u001b[38;5;241;43m.\u001b[39;49m\u001b[43mloadtxt\u001b[49m\u001b[43m(\u001b[49m\u001b[43mfilePath\u001b[49m\u001b[43m)\u001b[49m\n\u001b[1;32m     52\u001b[0m \u001b[38;5;28;01mreturn\u001b[39;00m d\n",
      "File \u001b[0;32m/nfs/user/nw285/packages/miniconda3/envs/bmad-benchmarking/lib/python3.9/site-packages/numpy/lib/npyio.py:1308\u001b[0m, in \u001b[0;36mloadtxt\u001b[0;34m(fname, dtype, comments, delimiter, converters, skiprows, usecols, unpack, ndmin, encoding, max_rows, quotechar, like)\u001b[0m\n\u001b[1;32m   1305\u001b[0m \u001b[38;5;28;01mif\u001b[39;00m \u001b[38;5;28misinstance\u001b[39m(delimiter, \u001b[38;5;28mbytes\u001b[39m):\n\u001b[1;32m   1306\u001b[0m     delimiter \u001b[38;5;241m=\u001b[39m delimiter\u001b[38;5;241m.\u001b[39mdecode(\u001b[38;5;124m'\u001b[39m\u001b[38;5;124mlatin1\u001b[39m\u001b[38;5;124m'\u001b[39m)\n\u001b[0;32m-> 1308\u001b[0m arr \u001b[38;5;241m=\u001b[39m \u001b[43m_read\u001b[49m\u001b[43m(\u001b[49m\u001b[43mfname\u001b[49m\u001b[43m,\u001b[49m\u001b[43m \u001b[49m\u001b[43mdtype\u001b[49m\u001b[38;5;241;43m=\u001b[39;49m\u001b[43mdtype\u001b[49m\u001b[43m,\u001b[49m\u001b[43m \u001b[49m\u001b[43mcomment\u001b[49m\u001b[38;5;241;43m=\u001b[39;49m\u001b[43mcomment\u001b[49m\u001b[43m,\u001b[49m\u001b[43m \u001b[49m\u001b[43mdelimiter\u001b[49m\u001b[38;5;241;43m=\u001b[39;49m\u001b[43mdelimiter\u001b[49m\u001b[43m,\u001b[49m\n\u001b[1;32m   1309\u001b[0m \u001b[43m            \u001b[49m\u001b[43mconverters\u001b[49m\u001b[38;5;241;43m=\u001b[39;49m\u001b[43mconverters\u001b[49m\u001b[43m,\u001b[49m\u001b[43m \u001b[49m\u001b[43mskiplines\u001b[49m\u001b[38;5;241;43m=\u001b[39;49m\u001b[43mskiprows\u001b[49m\u001b[43m,\u001b[49m\u001b[43m \u001b[49m\u001b[43musecols\u001b[49m\u001b[38;5;241;43m=\u001b[39;49m\u001b[43musecols\u001b[49m\u001b[43m,\u001b[49m\n\u001b[1;32m   1310\u001b[0m \u001b[43m            \u001b[49m\u001b[43munpack\u001b[49m\u001b[38;5;241;43m=\u001b[39;49m\u001b[43munpack\u001b[49m\u001b[43m,\u001b[49m\u001b[43m \u001b[49m\u001b[43mndmin\u001b[49m\u001b[38;5;241;43m=\u001b[39;49m\u001b[43mndmin\u001b[49m\u001b[43m,\u001b[49m\u001b[43m \u001b[49m\u001b[43mencoding\u001b[49m\u001b[38;5;241;43m=\u001b[39;49m\u001b[43mencoding\u001b[49m\u001b[43m,\u001b[49m\n\u001b[1;32m   1311\u001b[0m \u001b[43m            \u001b[49m\u001b[43mmax_rows\u001b[49m\u001b[38;5;241;43m=\u001b[39;49m\u001b[43mmax_rows\u001b[49m\u001b[43m,\u001b[49m\u001b[43m \u001b[49m\u001b[43mquote\u001b[49m\u001b[38;5;241;43m=\u001b[39;49m\u001b[43mquotechar\u001b[49m\u001b[43m)\u001b[49m\n\u001b[1;32m   1313\u001b[0m \u001b[38;5;28;01mreturn\u001b[39;00m arr\n",
      "File \u001b[0;32m/nfs/user/nw285/packages/miniconda3/envs/bmad-benchmarking/lib/python3.9/site-packages/numpy/lib/npyio.py:955\u001b[0m, in \u001b[0;36m_read\u001b[0;34m(fname, delimiter, comment, quote, imaginary_unit, usecols, skiplines, max_rows, converters, ndmin, unpack, dtype, encoding)\u001b[0m\n\u001b[1;32m    953\u001b[0m     fname \u001b[38;5;241m=\u001b[39m os\u001b[38;5;241m.\u001b[39mfspath(fname)\n\u001b[1;32m    954\u001b[0m \u001b[38;5;28;01mif\u001b[39;00m \u001b[38;5;28misinstance\u001b[39m(fname, \u001b[38;5;28mstr\u001b[39m):\n\u001b[0;32m--> 955\u001b[0m     fh \u001b[38;5;241m=\u001b[39m \u001b[43mnp\u001b[49m\u001b[38;5;241;43m.\u001b[39;49m\u001b[43mlib\u001b[49m\u001b[38;5;241;43m.\u001b[39;49m\u001b[43m_datasource\u001b[49m\u001b[38;5;241;43m.\u001b[39;49m\u001b[43mopen\u001b[49m\u001b[43m(\u001b[49m\u001b[43mfname\u001b[49m\u001b[43m,\u001b[49m\u001b[43m \u001b[49m\u001b[38;5;124;43m'\u001b[39;49m\u001b[38;5;124;43mrt\u001b[39;49m\u001b[38;5;124;43m'\u001b[39;49m\u001b[43m,\u001b[49m\u001b[43m \u001b[49m\u001b[43mencoding\u001b[49m\u001b[38;5;241;43m=\u001b[39;49m\u001b[43mencoding\u001b[49m\u001b[43m)\u001b[49m\n\u001b[1;32m    956\u001b[0m     \u001b[38;5;28;01mif\u001b[39;00m encoding \u001b[38;5;129;01mis\u001b[39;00m \u001b[38;5;28;01mNone\u001b[39;00m:\n\u001b[1;32m    957\u001b[0m         encoding \u001b[38;5;241m=\u001b[39m \u001b[38;5;28mgetattr\u001b[39m(fh, \u001b[38;5;124m'\u001b[39m\u001b[38;5;124mencoding\u001b[39m\u001b[38;5;124m'\u001b[39m, \u001b[38;5;124m'\u001b[39m\u001b[38;5;124mlatin1\u001b[39m\u001b[38;5;124m'\u001b[39m)\n",
      "File \u001b[0;32m/nfs/user/nw285/packages/miniconda3/envs/bmad-benchmarking/lib/python3.9/site-packages/numpy/lib/_datasource.py:193\u001b[0m, in \u001b[0;36mopen\u001b[0;34m(path, mode, destpath, encoding, newline)\u001b[0m\n\u001b[1;32m    156\u001b[0m \u001b[38;5;124;03m\"\"\"\u001b[39;00m\n\u001b[1;32m    157\u001b[0m \u001b[38;5;124;03mOpen `path` with `mode` and return the file object.\u001b[39;00m\n\u001b[1;32m    158\u001b[0m \n\u001b[0;32m   (...)\u001b[0m\n\u001b[1;32m    189\u001b[0m \n\u001b[1;32m    190\u001b[0m \u001b[38;5;124;03m\"\"\"\u001b[39;00m\n\u001b[1;32m    192\u001b[0m ds \u001b[38;5;241m=\u001b[39m DataSource(destpath)\n\u001b[0;32m--> 193\u001b[0m \u001b[38;5;28;01mreturn\u001b[39;00m \u001b[43mds\u001b[49m\u001b[38;5;241;43m.\u001b[39;49m\u001b[43mopen\u001b[49m\u001b[43m(\u001b[49m\u001b[43mpath\u001b[49m\u001b[43m,\u001b[49m\u001b[43m \u001b[49m\u001b[43mmode\u001b[49m\u001b[43m,\u001b[49m\u001b[43m \u001b[49m\u001b[43mencoding\u001b[49m\u001b[38;5;241;43m=\u001b[39;49m\u001b[43mencoding\u001b[49m\u001b[43m,\u001b[49m\u001b[43m \u001b[49m\u001b[43mnewline\u001b[49m\u001b[38;5;241;43m=\u001b[39;49m\u001b[43mnewline\u001b[49m\u001b[43m)\u001b[49m\n",
      "File \u001b[0;32m/nfs/user/nw285/packages/miniconda3/envs/bmad-benchmarking/lib/python3.9/site-packages/numpy/lib/_datasource.py:533\u001b[0m, in \u001b[0;36mDataSource.open\u001b[0;34m(self, path, mode, encoding, newline)\u001b[0m\n\u001b[1;32m    530\u001b[0m     \u001b[38;5;28;01mreturn\u001b[39;00m _file_openers[ext](found, mode\u001b[38;5;241m=\u001b[39mmode,\n\u001b[1;32m    531\u001b[0m                               encoding\u001b[38;5;241m=\u001b[39mencoding, newline\u001b[38;5;241m=\u001b[39mnewline)\n\u001b[1;32m    532\u001b[0m \u001b[38;5;28;01melse\u001b[39;00m:\n\u001b[0;32m--> 533\u001b[0m     \u001b[38;5;28;01mraise\u001b[39;00m \u001b[38;5;167;01mFileNotFoundError\u001b[39;00m(\u001b[38;5;124mf\u001b[39m\u001b[38;5;124m\"\u001b[39m\u001b[38;5;132;01m{\u001b[39;00mpath\u001b[38;5;132;01m}\u001b[39;00m\u001b[38;5;124m not found.\u001b[39m\u001b[38;5;124m\"\u001b[39m)\n",
      "\u001b[0;31mFileNotFoundError\u001b[0m: /nfs/user/nw285/bmad_benchmarking_fork/apex_gun/impact/rfdata666 not found."
     ]
    }
   ],
   "source": [
    "%%time\n",
    "I3 = Impact('impact/ImpactT-2D.in', initial_particles=P0)\n",
    "\n",
    "I3.ele['APEX_gun']['theta0_deg'] = PHASE_DEG + 90\n",
    "I3.ele['APEX_gun']['rf_field_scale'] = field_scale\n",
    "I3.header['Zimage'] = 0.05\n",
    "I3.run()\n",
    "PfI3 = I3.particles['final_particles']\n",
    "PfI3.drift_to_z(0.5)"
   ]
  },
  {
   "cell_type": "markdown",
   "id": "e39265ca",
   "metadata": {
    "jp-MarkdownHeadingCollapsed": true,
    "tags": []
   },
   "source": [
    "## Compare Stats"
   ]
  },
  {
   "cell_type": "code",
   "execution_count": 23,
   "id": "f5a5571b-9f6d-49f3-9268-fde36d06df13",
   "metadata": {},
   "outputs": [
    {
     "ename": "NameError",
     "evalue": "name 'I2' is not defined",
     "output_type": "error",
     "traceback": [
      "\u001b[0;31m---------------------------------------------------------------------------\u001b[0m",
      "\u001b[0;31mNameError\u001b[0m                                 Traceback (most recent call last)",
      "Input \u001b[0;32mIn [23]\u001b[0m, in \u001b[0;36m<cell line: 20>\u001b[0;34m()\u001b[0m\n\u001b[1;32m     17\u001b[0m     plt\u001b[38;5;241m.\u001b[39mlegend()\n\u001b[1;32m     18\u001b[0m     \u001b[38;5;28;01mreturn\u001b[39;00m fig\n\u001b[0;32m---> 20\u001b[0m \u001b[43mcompare_stat\u001b[49m\u001b[43m(\u001b[49m\u001b[38;5;124;43m'\u001b[39;49m\u001b[38;5;124;43mmean_kinetic_energy\u001b[39;49m\u001b[38;5;124;43m'\u001b[39;49m\u001b[43m)\u001b[49m\n",
      "Input \u001b[0;32mIn [23]\u001b[0m, in \u001b[0;36mcompare_stat\u001b[0;34m(key)\u001b[0m\n\u001b[1;32m     11\u001b[0m ax\u001b[38;5;241m.\u001b[39mplot(bmadx, bmady, label\u001b[38;5;241m=\u001b[39m\u001b[38;5;124m'\u001b[39m\u001b[38;5;124mBmad\u001b[39m\u001b[38;5;124m'\u001b[39m, marker\u001b[38;5;241m=\u001b[39m\u001b[38;5;124m'\u001b[39m\u001b[38;5;124mx\u001b[39m\u001b[38;5;124m'\u001b[39m)\n\u001b[1;32m     12\u001b[0m \u001b[38;5;66;03m#ax.plot(I.stat('t'), I.stat(ky), label='no sc')\u001b[39;00m\n\u001b[0;32m---> 13\u001b[0m ax\u001b[38;5;241m.\u001b[39mplot(\u001b[43mI2\u001b[49m\u001b[38;5;241m.\u001b[39mstat(\u001b[38;5;124m'\u001b[39m\u001b[38;5;124mt\u001b[39m\u001b[38;5;124m'\u001b[39m), I\u001b[38;5;241m.\u001b[39mstat(ky), label\u001b[38;5;241m=\u001b[39m\u001b[38;5;124m'\u001b[39m\u001b[38;5;124mImpact-T\u001b[39m\u001b[38;5;124m'\u001b[39m)\n\u001b[1;32m     15\u001b[0m ax\u001b[38;5;241m.\u001b[39mset_ylabel(mathlabel(ky, units\u001b[38;5;241m=\u001b[39mpg_units(ky)))\n\u001b[1;32m     16\u001b[0m ax\u001b[38;5;241m.\u001b[39mset_xlabel(mathlabel(kx, units\u001b[38;5;241m=\u001b[39mpg_units(kx)))\n",
      "\u001b[0;31mNameError\u001b[0m: name 'I2' is not defined"
     ]
    },
    {
     "data": {
      "image/png": "[encoded data removed]",
      "text/plain": [
       "<Figure size 864x288 with 1 Axes>"
      ]
     },
     "metadata": {
      "image/png": {
       "height": 260,
       "width": 729
      },
      "needs_background": "light"
     },
     "output_type": "display_data"
    }
   ],
   "source": [
    "def compare_stat(key):\n",
    "\n",
    "    fig, ax = plt.subplots(figsize=(12,4))\n",
    "    \n",
    "    ky = key\n",
    "    \n",
    "    kx = 'mean_t'\n",
    "    bmadx = np.array([P[kx] for P in Plist2])   \n",
    "    bmady = np.array([P[ky] for P in Plist2])\n",
    "    \n",
    "    ax.plot(bmadx, bmady, label='Bmad', marker='x')\n",
    "    #ax.plot(I.stat('t'), I.stat(ky), label='no sc')\n",
    "    ax.plot(I2.stat('t'), I.stat(ky), label='Impact-T')\n",
    "    \n",
    "    ax.set_ylabel(mathlabel(ky, units=pg_units(ky)))\n",
    "    ax.set_xlabel(mathlabel(kx, units=pg_units(kx)))\n",
    "    plt.legend()\n",
    "    return fig\n",
    "    \n",
    "compare_stat('mean_kinetic_energy')\n"
   ]
  },
  {
   "cell_type": "code",
   "execution_count": null,
   "id": "4429b2ef-fb93-4d2f-ba57-824b26c7f55a",
   "metadata": {},
   "outputs": [],
   "source": [
    "compare_stat('mean_x')"
   ]
  },
  {
   "cell_type": "code",
   "execution_count": null,
   "id": "a73863b1-df20-4060-b0e2-d59ec42b36fc",
   "metadata": {},
   "outputs": [],
   "source": [
    "fig = compare_stat('sigma_x')  "
   ]
  },
  {
   "cell_type": "code",
   "execution_count": null,
   "id": "a56aad83-7228-47a3-bffa-4c9597cd67b2",
   "metadata": {},
   "outputs": [],
   "source": [
    "compare_stat('mean_pz')"
   ]
  },
  {
   "cell_type": "markdown",
   "id": "2d34f189",
   "metadata": {
    "tags": []
   },
   "source": [
    "## Compare final particles"
   ]
  },
  {
   "cell_type": "code",
   "execution_count": null,
   "id": "00ca5007-0509-46a1-949c-a845b5474b31",
   "metadata": {},
   "outputs": [],
   "source": [
    "def compare_particles(k1, k2):\n",
    "    \n",
    "    plist=(PfB1, PfB2, PfI2)\n",
    "    labels=('Bmad no sc', 'Bmad sc', 'Impact-T sc')\n",
    "    markers=('.','.','.')\n",
    "    \n",
    "    fig, ax = plt.subplots()\n",
    "    for P, label, marker in zip(plist, labels, markers):\n",
    "        ax.scatter(P[k1], P[k2], marker=marker, label=label, alpha = 0.5)\n",
    "        \n",
    "    ax.set_xlabel(mathlabel(k1))\n",
    "    ax.set_ylabel(mathlabel(k2))\n",
    "    plt.legend()\n",
    "    #plt.savefig(k1+'_'+k2+'.png')\n",
    "    \n",
    "compare_particles('x', 'y')\n",
    "\n",
    "compare_particles('px', 'py')\n",
    "\n",
    "compare_particles('t', 'pz')"
   ]
  },
  {
   "cell_type": "code",
   "execution_count": null,
   "id": "219eac83-6011-41f3-80ef-8442f26e5918",
   "metadata": {},
   "outputs": [],
   "source": [
    "def compare_particles(k1, k2):\n",
    "    \n",
    "    plist=(PfB1, PfB3, PfI3)\n",
    "    labels=('Bmad no sc', 'Bmad image', 'Impact-T image')\n",
    "    markers=('.','.','.')\n",
    "    \n",
    "    fig, ax = plt.subplots()\n",
    "    for P, label, marker in zip(plist, labels, markers):\n",
    "        ax.scatter(P[k1], P[k2], marker=marker, label=label, alpha = 0.5)\n",
    "        \n",
    "    ax.set_xlabel(mathlabel(k1))\n",
    "    ax.set_ylabel(mathlabel(k2))\n",
    "    plt.legend()\n",
    "    #plt.savefig(k1+'_'+k2+'.png')\n",
    "    \n",
    "compare_particles('x', 'y')\n",
    "\n",
    "compare_particles('px', 'py')\n",
    "\n",
    "compare_particles('t', 'pz')"
   ]
  },
  {
   "cell_type": "code",
   "execution_count": null,
   "id": "396e76ca-4e48-4261-b3b4-4a3c9b4fe17f",
   "metadata": {},
   "outputs": [],
   "source": [
    "def compare_particles_hist(k1):\n",
    "    \n",
    "    plist=(PfB1,PfB2,PfB3)\n",
    "    labels=('Bmad no sc', 'Bmad sc', 'Bmad image')\n",
    "    colors = ('b','g','r')\n",
    "    \n",
    "    fig, ax = plt.subplots()\n",
    "    data = list()\n",
    "    for P in plist:\n",
    "        data.append(P[k1])\n",
    "    \n",
    "    ax.hist(data, bins=20, label=labels, color=colors, alpha = 0.8)\n",
    "        \n",
    "    ax.set_xlabel(mathlabel(k1))\n",
    "    \n",
    "    plt.legend()\n",
    "    #plt.savefig(k1+'_hist'.png')\n",
    "    \n",
    "compare_particles_hist('x')\n",
    "compare_particles_hist('px')\n",
    "compare_particles_hist('pz')\n",
    "compare_particles_hist('t')"
   ]
  },
  {
   "cell_type": "code",
   "execution_count": 27,
   "id": "f350965c",
   "metadata": {},
   "outputs": [],
   "source": [
    "# Cleanup\n",
    "!rm beam_dump.h5\n",
    "!rm initial_particles.h5\n",
    "!rm live_initial_particles.h5"
   ]
  },
  {
   "cell_type": "code",
   "execution_count": null,
   "id": "56355c67-f9a0-4ff5-9718-d39e3de9ead3",
   "metadata": {},
   "outputs": [],
   "source": []
  }
 ],
 "metadata": {
  "kernelspec": {
   "display_name": "Python 3 (ipykernel)",
   "language": "python",
   "name": "python3"
  },
  "language_info": {
   "codemirror_mode": {
    "name": "ipython",
    "version": 3
   },
   "file_extension": ".py",
   "mimetype": "text/x-python",
   "name": "python",
   "nbconvert_exporter": "python",
   "pygments_lexer": "ipython3",
   "version": "3.9.13"
  }
 },
 "nbformat": 4,
 "nbformat_minor": 5
}
