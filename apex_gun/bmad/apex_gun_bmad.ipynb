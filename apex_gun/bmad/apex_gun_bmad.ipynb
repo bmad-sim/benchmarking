{
 "cells": [
  {
   "cell_type": "markdown",
   "metadata": {},
   "source": [
    "# APEX Gun: Bmad"
   ]
  },
  {
   "cell_type": "code",
   "execution_count": 1,
   "metadata": {},
   "outputs": [
    {
     "name": "stdout",
     "output_type": "stream",
     "text": [
      "%pylab is deprecated, use %matplotlib inline and import the required libraries.\n",
      "Populating the interactive namespace from numpy and matplotlib\n"
     ]
    }
   ],
   "source": [
    "%pylab --no-import-all inline\n",
    "%config InlineBackend.figure_format = 'retina'"
   ]
  },
  {
   "cell_type": "code",
   "execution_count": 2,
   "metadata": {},
   "outputs": [],
   "source": [
    "from pytao import Tao\n",
    "\n",
    "from pmd_beamphysics import ParticleGroup, single_particle\n",
    "\n",
    "import os"
   ]
  },
  {
   "cell_type": "markdown",
   "metadata": {},
   "source": [
    "## Single particle"
   ]
  },
  {
   "cell_type": "code",
   "execution_count": 3,
   "metadata": {},
   "outputs": [
    {
     "data": {
      "text/plain": [
       "\u001b[0;31mSignature:\u001b[0m\n",
       "\u001b[0msingle_particle\u001b[0m\u001b[0;34m(\u001b[0m\u001b[0;34m\u001b[0m\n",
       "\u001b[0;34m\u001b[0m    \u001b[0mx\u001b[0m\u001b[0;34m=\u001b[0m\u001b[0;36m0\u001b[0m\u001b[0;34m,\u001b[0m\u001b[0;34m\u001b[0m\n",
       "\u001b[0;34m\u001b[0m    \u001b[0mpx\u001b[0m\u001b[0;34m=\u001b[0m\u001b[0;36m0\u001b[0m\u001b[0;34m,\u001b[0m\u001b[0;34m\u001b[0m\n",
       "\u001b[0;34m\u001b[0m    \u001b[0my\u001b[0m\u001b[0;34m=\u001b[0m\u001b[0;36m0\u001b[0m\u001b[0;34m,\u001b[0m\u001b[0;34m\u001b[0m\n",
       "\u001b[0;34m\u001b[0m    \u001b[0mpy\u001b[0m\u001b[0;34m=\u001b[0m\u001b[0;36m0\u001b[0m\u001b[0;34m,\u001b[0m\u001b[0;34m\u001b[0m\n",
       "\u001b[0;34m\u001b[0m    \u001b[0mz\u001b[0m\u001b[0;34m=\u001b[0m\u001b[0;36m0\u001b[0m\u001b[0;34m,\u001b[0m\u001b[0;34m\u001b[0m\n",
       "\u001b[0;34m\u001b[0m    \u001b[0mpz\u001b[0m\u001b[0;34m=\u001b[0m\u001b[0;36m0\u001b[0m\u001b[0;34m,\u001b[0m\u001b[0;34m\u001b[0m\n",
       "\u001b[0;34m\u001b[0m    \u001b[0mt\u001b[0m\u001b[0;34m=\u001b[0m\u001b[0;36m0\u001b[0m\u001b[0;34m,\u001b[0m\u001b[0;34m\u001b[0m\n",
       "\u001b[0;34m\u001b[0m    \u001b[0mweight\u001b[0m\u001b[0;34m=\u001b[0m\u001b[0;36m1\u001b[0m\u001b[0;34m,\u001b[0m\u001b[0;34m\u001b[0m\n",
       "\u001b[0;34m\u001b[0m    \u001b[0mstatus\u001b[0m\u001b[0;34m=\u001b[0m\u001b[0;36m1\u001b[0m\u001b[0;34m,\u001b[0m\u001b[0;34m\u001b[0m\n",
       "\u001b[0;34m\u001b[0m    \u001b[0mspecies\u001b[0m\u001b[0;34m=\u001b[0m\u001b[0;34m'electron'\u001b[0m\u001b[0;34m,\u001b[0m\u001b[0;34m\u001b[0m\n",
       "\u001b[0;34m\u001b[0m\u001b[0;34m)\u001b[0m\u001b[0;34m\u001b[0m\u001b[0;34m\u001b[0m\u001b[0m\n",
       "\u001b[0;31mDocstring:\u001b[0m\n",
       "Convenience function to make ParticleGroup with a single particle.\n",
       "\n",
       "Units:\n",
       "    x, y, z: m\n",
       "    px, py, pz: eV/c\n",
       "    t: s\n",
       "    weight: C\n",
       "    status=1 => live particle\n",
       "    \n",
       "\u001b[0;31mFile:\u001b[0m      /nfs/user/nw285/packages/miniconda3/envs/bmad-benchmarking/lib/python3.9/site-packages/pmd_beamphysics/particles.py\n",
       "\u001b[0;31mType:\u001b[0m      function\n"
      ]
     },
     "metadata": {},
     "output_type": "display_data"
    }
   ],
   "source": [
    "?single_particle"
   ]
  },
  {
   "cell_type": "code",
   "execution_count": 4,
   "metadata": {},
   "outputs": [
    {
     "data": {
      "text/plain": [
       "{'x': array([0.001]),\n",
       " 'px': array([0]),\n",
       " 'y': array([0]),\n",
       " 'py': array([0]),\n",
       " 'z': array([1.e-09]),\n",
       " 'pz': array([1.e-09]),\n",
       " 't': array([0]),\n",
       " 'status': array([1]),\n",
       " 'weight': array([1]),\n",
       " 'species': 'electron'}"
      ]
     },
     "execution_count": 4,
     "metadata": {},
     "output_type": "execute_result"
    }
   ],
   "source": [
    "P0 = single_particle(x=1000e-6, z=1e-9, pz=1e-9)\n",
    "P0.data"
   ]
  },
  {
   "cell_type": "code",
   "execution_count": 5,
   "metadata": {},
   "outputs": [],
   "source": [
    "PFILE = 'initial_particles.h5'"
   ]
  },
  {
   "cell_type": "code",
   "execution_count": 6,
   "metadata": {},
   "outputs": [],
   "source": [
    "P0.write(PFILE)"
   ]
  },
  {
   "cell_type": "markdown",
   "metadata": {},
   "source": [
    "## Make markers \n",
    "\n",
    "The beam will be saved at these."
   ]
  },
  {
   "cell_type": "code",
   "execution_count": 7,
   "metadata": {},
   "outputs": [
    {
     "data": {
      "text/plain": [
       "['m_000', 'm_001', 'm_002']"
      ]
     },
     "execution_count": 7,
     "metadata": {},
     "output_type": "execute_result"
    }
   ],
   "source": [
    "from pytao.misc.markers import make_markers\n",
    "\n",
    "slist = np.linspace(0, 0.5, 50)\n",
    "mlist = make_markers(slist, filename='markers.bmad')\n",
    "mnames = [m.split(':')[0] for m in mlist]\n",
    "mnames[0:3]"
   ]
  },
  {
   "cell_type": "markdown",
   "metadata": {},
   "source": [
    "# Run Tao"
   ]
  },
  {
   "cell_type": "code",
   "execution_count": 8,
   "metadata": {},
   "outputs": [],
   "source": [
    "tao = Tao(f'-init tao.init -noplot -beam_init_position_file {PFILE}')"
   ]
  },
  {
   "cell_type": "code",
   "execution_count": 9,
   "metadata": {},
   "outputs": [
    {
     "name": "stdout",
     "output_type": "stream",
     "text": [
      "-------------------------\n",
      "Tao> set ele GUN VOLTAGE = 750e3\n",
      "-------------------------\n",
      "Tao> set ele SOL1 BS_FIELD = 0\n",
      "-------------------------\n",
      "Tao> \n"
     ]
    }
   ],
   "source": [
    "%%tao\n",
    "set ele GUN VOLTAGE = 750e3\n",
    "set ele SOL1 BS_FIELD = 0"
   ]
  },
  {
   "cell_type": "code",
   "execution_count": 10,
   "metadata": {},
   "outputs": [
    {
     "data": {
      "text/plain": [
       "['',\n",
       " 'Tao: set global track_type = beam',\n",
       " '',\n",
       " 'Tao: set global track_type = single']"
      ]
     },
     "execution_count": 10,
     "metadata": {},
     "output_type": "execute_result"
    }
   ],
   "source": [
    "# Toggle beam\n",
    "tao.cmd('set global track_type = beam;set global track_type = single')"
   ]
  },
  {
   "cell_type": "code",
   "execution_count": 11,
   "metadata": {},
   "outputs": [
    {
     "data": {
      "text/plain": [
       "{'x': array([0.005955]),\n",
       " 'px': array([12302.44347752]),\n",
       " 'y': array([0.]),\n",
       " 'py': array([0.]),\n",
       " 'z': array([0]),\n",
       " 'pz': array([1152679.57707593]),\n",
       " 't': array([1.88320286e-09]),\n",
       " 'status': array([1], dtype=int32),\n",
       " 'weight': array([1.]),\n",
       " 'species': 'electron'}"
      ]
     },
     "execution_count": 11,
     "metadata": {},
     "output_type": "execute_result"
    }
   ],
   "source": [
    "Plist = [ParticleGroup(data=tao.bunch_data(name)) for name in mnames]\n",
    "\n",
    "Plist[-1][0].data"
   ]
  },
  {
   "cell_type": "code",
   "execution_count": 12,
   "metadata": {},
   "outputs": [
    {
     "data": {
      "text/plain": [
       "[<matplotlib.lines.Line2D at 0x7f4cf738fb50>]"
      ]
     },
     "execution_count": 12,
     "metadata": {},
     "output_type": "execute_result"
    },
    {
     "data": {
      "image/png": "[encoded data removed]",
      "text/plain": [
       "<Figure size 432x288 with 1 Axes>"
      ]
     },
     "metadata": {
      "image/png": {
       "height": 248,
       "width": 384
      },
      "needs_background": "light"
     },
     "output_type": "display_data"
    }
   ],
   "source": [
    "\n",
    "# Extract some data\n",
    "x = [P.x for P in Plist]\n",
    "\n",
    "plt.plot(x)"
   ]
  },
  {
   "cell_type": "code",
   "execution_count": 13,
   "metadata": {},
   "outputs": [
    {
     "name": "stdout",
     "output_type": "stream",
     "text": [
      "-------------------------\n",
      "Tao> sho ele GUN\n",
      "Element # 104\n",
      "Element Name: GUN\n",
      "Key: E_Gun\n",
      "S_start, S:      0.000000,      0.175000\n",
      "Ref_time:  6.973132E-10\n",
      "\n",
      "Attribute values [Only non-zero values shown]:\n",
      "    1  L                           =  1.7500000E-01 m\n",
      "    3  RF_FREQUENCY                =  1.8571429E+08 Hz\n",
      "    7  GRADIENT_ERR                =  0.0000000E+00 eV/m\n",
      "    8  VOLTAGE                     =  7.5000000E+05 Volt      6  GRADIENT                    =  4.2857143E+06 eV/m\n",
      "    9  VOLTAGE_ERR                 =  0.0000000E+00 Volt\n",
      "   10  FRINGE_TYPE                 =  Full (4)               11  FRINGE_AT                   =  Exit_End (2)\n",
      "   13  SPIN_FRINGE_ON              =  T (1)\n",
      "   17  STATIC_LINEAR_MAP           =  F (0)\n",
      "   18  AUTOSCALE_AMPLITUDE         =  T (1)                  19  AUTOSCALE_PHASE             =  T (1)\n",
      "   22  DT_MAX                      =  0.0000000E+00 sec\n",
      "   23  EMIT_FRACTION               =  0.0000000E+00\n",
      "   24  PHI0                        =  0.0000000E+00 rad/2pi\n",
      "   25  PHI0_ERR                    =  0.0000000E+00 rad/2pi\n",
      "   29  FIELD_AUTOSCALE             =  1.9516697E+07          27  PHI0_AUTOSCALE              =  2.2609665E-01 rad/2pi\n",
      "   50  DELTA_REF_TIME              =  6.9731321E-10 sec\n",
      "   53  P0C                         =  1.1528219E+06 eV           BETA                        =  9.1421324E-01\n",
      "   54  E_TOT                       =  1.2609989E+06 eV           GAMMA                       =  2.4677133E+00\n",
      "   65  INTEGRATOR_ORDER            = 0\n",
      "   67  DS_STEP                     =  2.0000000E-01 m        66  NUM_STEPS                   = 1\n",
      "   68  CSR_DS_STEP                 =  0.0000000E+00 m\n",
      "\n",
      "       TRACKING_METHOD              =  Time_Runge_Kutta          APERTURE_AT                =  Continuous\n",
      "       MAT6_CALC_METHOD             =  Tracking                  APERTURE_TYPE              =  Wall3D\n",
      "       SPIN_TRACKING_METHOD         =  Tracking                  OFFSET_MOVES_APERTURE      =  F\n",
      "       PTC_INTEGRATION_TYPE         =  Matrix_Kick               SYMPLECTIFY                =  F\n",
      "       CSR_METHOD                   =  Off                       LONGITUDINAL ORIENTATION   =       1\n",
      "       SPACE_CHARGE_METHOD          =  FFT_3D\n",
      "       FIELD_CALC                   =  FieldMap\n",
      "Number of Grid_field modes:    1\n",
      "\n",
      "Wall name:\n",
      "Number of Wall Sections:    2\n",
      "Wall region:    0.00000    0.17500\n",
      "\n",
      "Slave_status: Free\n",
      "\n",
      "Lord_status:  Super_Lord\n",
      "Slaves:\n",
      "   Index   Name         Type                     S\n",
      "       2   GUN#1        E_Gun                    0.006530\n",
      "       3   GUN\\SOL1#1   EM_Field                 0.010204\n",
      "       5   GUN\\SOL1#2   EM_Field                 0.020408\n",
      "       7   GUN\\SOL1#3   EM_Field                 0.030612\n",
      "       9   GUN\\SOL1#4   EM_Field                 0.040816\n",
      "      11   GUN\\SOL1#5   EM_Field                 0.051020\n",
      "      13   GUN\\SOL1#6   EM_Field                 0.061224\n",
      "      15   GUN\\SOL1#7   EM_Field                 0.071429\n",
      "      17   GUN\\SOL1#8   EM_Field                 0.081633\n",
      "      19   GUN\\SOL1#9   EM_Field                 0.091837\n",
      "      21   GUN\\SOL1#10  EM_Field                 0.102041\n",
      "      23   GUN\\SOL1#11  EM_Field                 0.112245\n",
      "      25   GUN\\SOL1#12  EM_Field                 0.122449\n",
      "      27   GUN\\SOL1#13  EM_Field                 0.132653\n",
      "      29   GUN\\SOL1#14  EM_Field                 0.142857\n",
      "      31   GUN\\SOL1#15  EM_Field                 0.153061\n",
      "      33   GUN\\SOL1#16  EM_Field                 0.163265\n",
      "      35   GUN\\SOL1#17  EM_Field                 0.173469\n",
      "      37   GUN\\SOL1#18  EM_Field                 0.175000\n",
      "\n",
      "Twiss at end of element:\n",
      "                          A              B            Cbar                        C_mat\n",
      "  Beta (m)       181.37230906   181.37230906  |   0.00000000   0.00000000      0.00000000   0.00000000\n",
      "  Alpha         -774.03038829  -774.03038829  |   0.00000000   0.00000000      0.00000000   0.00000000\n",
      "  Gamma (1/m)   3303.28287213  3303.28287213  |   Gamma_c =   1.00000000       Mode_Flip = F\n",
      "  Phi (rad)        0.00757391     0.00757391            X              Y              Z\n",
      "  Eta (m)          0.00000000     0.00000000     0.00000000     0.00000000   -35.94234996\n",
      "  Etap             0.00000000     0.00000000     0.00000000     0.00000000     0.00000000\n",
      "\n",
      "Orbit:  Electron   State: Alive\n",
      "         Position[mm] Momentum[mrad]        Spin   |\n",
      "  X:       0.00000000     0.00000000               | t_particle [sec]:        6.97313206E-10  E_tot: 1.26100E+06\n",
      "  Y:       0.00000000     0.00000000               | t_part-t_ref [sec]:     -8.19746203E-18  PC:    1.15282E+06\n",
      "  Z:       0.00000223     0.00008938               | (t_ref-t_part)*Vel [m]:  2.24671316E-09  Beta:  0.914213251\n",
      "-------------------------\n",
      "Tao> \n"
     ]
    }
   ],
   "source": [
    "%%tao\n",
    "sho ele GUN"
   ]
  },
  {
   "cell_type": "code",
   "execution_count": 14,
   "metadata": {},
   "outputs": [],
   "source": [
    "# Cleanup\n",
    "!rm beam_dump.h5\n",
    "!rm initial_particles.h5\n",
    "!rm *digested*"
   ]
  }
 ],
 "metadata": {
  "kernelspec": {
   "display_name": "Python 3 (ipykernel)",
   "language": "python",
   "name": "python3"
  },
  "language_info": {
   "codemirror_mode": {
    "name": "ipython",
    "version": 3
   },
   "file_extension": ".py",
   "mimetype": "text/x-python",
   "name": "python",
   "nbconvert_exporter": "python",
   "pygments_lexer": "ipython3",
   "version": "3.9.13"
  }
 },
 "nbformat": 4,
 "nbformat_minor": 4
}
